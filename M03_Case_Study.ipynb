{
 "cells": [
  {
   "cell_type": "code",
   "execution_count": null,
   "id": "b965cf4b-7f27-4564-9dab-753230ecf97c",
   "metadata": {},
   "outputs": [],
   "source": []
  }
 ],
 "metadata": {
  "kernelspec": {
   "display_name": "",
   "name": ""
  },
  "language_info": {
   "name": ""
  }
 },
 "nbformat": 4,
 "nbformat_minor": 5
}
